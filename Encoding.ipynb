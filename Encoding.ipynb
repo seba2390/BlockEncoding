{
 "cells": [
  {
   "cell_type": "code",
   "execution_count": 1,
   "outputs": [],
   "source": [
    "import numpy as np\n",
    "import qiskit\n",
    "from qiskit.quantum_info.operators import Operator\n",
    "from qiskit.extensions import UnitaryGate\n",
    "from tools import *"
   ],
   "metadata": {
    "collapsed": false,
    "ExecuteTime": {
     "start_time": "2023-04-10T13:40:50.816610Z",
     "end_time": "2023-04-10T13:40:52.594870Z"
    }
   }
  },
  {
   "cell_type": "markdown",
   "source": [
    "Performing block encoding of $2\\times2$ matrix on the form:\n",
    "\\begin{equation}\n",
    "A=\\frac{1}{2}(\\alpha_1I+\\alpha_2\\sigma_x)=\\frac{1}{2}\\begin{pmatrix} \\alpha_1 \\alpha_2 \\\\ \\alpha_2 \\alpha_1\n",
    "\\end{pmatrix}\n",
    "\\end{equation}"
   ],
   "metadata": {
    "collapsed": false
   }
  },
  {
   "cell_type": "code",
   "execution_count": 2,
   "outputs": [
    {
     "name": "stdout",
     "output_type": "stream",
     "text": [
      "[[1.5 2. ]\n",
      " [2.  1.5]]\n"
     ]
    }
   ],
   "source": [
    "# Defining arbitrary symmetric A\n",
    "alpha_1, alpha_2 = 3, 4\n",
    "A = 1/2 * np.array([[alpha_1, alpha_2],[alpha_2, alpha_1]])\n",
    "print(A)"
   ],
   "metadata": {
    "collapsed": false,
    "ExecuteTime": {
     "start_time": "2023-04-10T13:40:52.595869Z",
     "end_time": "2023-04-10T13:40:52.610163Z"
    }
   }
  },
  {
   "cell_type": "code",
   "execution_count": 3,
   "outputs": [
    {
     "name": "stdout",
     "output_type": "stream",
     "text": [
      "[[0.2236068 0.2981424]\n",
      " [0.2981424 0.2236068]]\n"
     ]
    }
   ],
   "source": [
    "# Normalizing w. respect to spectral norm\n",
    "spectral_norm = np.sqrt(np.max(np.linalg.eigvals(A.T@A-np.eye(2))))\n",
    "A = 1/2*A/spectral_norm\n",
    "print(A)"
   ],
   "metadata": {
    "collapsed": false,
    "ExecuteTime": {
     "start_time": "2023-04-10T13:40:52.612165Z",
     "end_time": "2023-04-10T13:40:52.670213Z"
    }
   }
  },
  {
   "cell_type": "code",
   "execution_count": 4,
   "outputs": [
    {
     "name": "stdout",
     "output_type": "stream",
     "text": [
      "0.4472135954999579 0.5962847939999439\n"
     ]
    }
   ],
   "source": [
    "# Updating alpha_1, alpha_2 definition\n",
    "alpha_1, alpha_2 = 2*A[0,0], 2*A[0,1]\n",
    "print(alpha_1,alpha_2)"
   ],
   "metadata": {
    "collapsed": false,
    "ExecuteTime": {
     "start_time": "2023-04-10T13:40:52.628699Z",
     "end_time": "2023-04-10T13:40:52.679213Z"
    }
   }
  },
  {
   "cell_type": "code",
   "execution_count": 5,
   "outputs": [
    {
     "name": "stdout",
     "output_type": "stream",
     "text": [
      "That\n",
      "0.22360679774997896 0.29814239699997197\n"
     ]
    }
   ],
   "source": [
    "print(\"That\")\n",
    "print(alpha_1/2, alpha_2/2)"
   ],
   "metadata": {
    "collapsed": false,
    "ExecuteTime": {
     "start_time": "2023-04-10T13:40:52.643700Z",
     "end_time": "2023-04-10T13:40:52.680214Z"
    }
   }
  },
  {
   "cell_type": "code",
   "execution_count": 6,
   "outputs": [
    {
     "name": "stdout",
     "output_type": "stream",
     "text": [
      "1.1071487177940904 -0.17521753523460504\n"
     ]
    }
   ],
   "source": [
    "# Defining rotation angles\n",
    "theta_1 = np.arccos(alpha_1)\n",
    "theta_2 = np.arccos(alpha_2) - theta_1\n",
    "print(theta_1, theta_2)"
   ],
   "metadata": {
    "collapsed": false,
    "ExecuteTime": {
     "start_time": "2023-04-10T13:40:52.657704Z",
     "end_time": "2023-04-10T13:40:52.680214Z"
    }
   }
  },
  {
   "cell_type": "markdown",
   "source": [
    "### Performing exact simulation"
   ],
   "metadata": {
    "collapsed": false
   }
  },
  {
   "cell_type": "code",
   "execution_count": 7,
   "outputs": [
    {
     "name": "stdout",
     "output_type": "stream",
     "text": [
      "Initializing q_2 = |0>\n"
     ]
    },
    {
     "data": {
      "text/plain": "<Figure size 538.33x284.278 with 1 Axes>",
      "image/png": "[encoded data removed]"
     },
     "execution_count": 7,
     "metadata": {},
     "output_type": "execute_result"
    }
   ],
   "source": [
    "# Creating Quantum Circuit (Qubits initialized to |0> by default)\n",
    "print(\"Initializing q_2 = |0>\")\n",
    "circ = QuantumCircuit(3)\n",
    "circ.h(qubit=1)\n",
    "circ.cx(control_qubit=1,\n",
    "        target_qubit=2)\n",
    "circ.cu(theta=2*theta_2,phi=0.0,gamma=0.0,lam=0.0,control_qubit=1,target_qubit=0) # N.B. Remember to rotate by the double amount\n",
    "circ.u(theta=2*theta_1, phi=0.0,lam=0.0,qubit=0) # N.B. Remember to rotate by the double amount\n",
    "circ.h(qubit=1)\n",
    "circ.draw('mpl')"
   ],
   "metadata": {
    "collapsed": false,
    "ExecuteTime": {
     "start_time": "2023-04-10T13:40:52.673214Z",
     "end_time": "2023-04-10T13:40:52.905374Z"
    }
   }
  },
  {
   "cell_type": "code",
   "execution_count": 8,
   "outputs": [
    {
     "data": {
      "text/plain": "qiskit.circuit.quantumcircuit.QuantumCircuit"
     },
     "execution_count": 8,
     "metadata": {},
     "output_type": "execute_result"
    }
   ],
   "source": [
    "type(circ)"
   ],
   "metadata": {
    "collapsed": false,
    "ExecuteTime": {
     "start_time": "2023-04-10T13:40:52.905374Z",
     "end_time": "2023-04-10T13:40:52.949432Z"
    }
   }
  },
  {
   "cell_type": "code",
   "execution_count": 9,
   "outputs": [
    {
     "name": "stdout",
     "output_type": "stream",
     "text": [
      "[ 0.2236068   0.4472136   0.2236068   0.4472136   0.2981424   0.40138649\n",
      " -0.2981424  -0.40138649]\n"
     ]
    }
   ],
   "source": [
    "# Run the quantum circuit on a statevector simulator backend\n",
    "backend = Aer.get_backend('statevector_simulator')\n",
    "job = backend.run(circ)\n",
    "result = job.result()\n",
    "statevector_result = np.real_if_close(np.array(result.data()['statevector']))\n",
    "print(statevector_result)"
   ],
   "metadata": {
    "collapsed": false,
    "ExecuteTime": {
     "start_time": "2023-04-10T13:40:52.920992Z",
     "end_time": "2023-04-10T13:40:54.777463Z"
    }
   }
  },
  {
   "cell_type": "code",
   "execution_count": 10,
   "outputs": [
    {
     "name": "stdout",
     "output_type": "stream",
     "text": [
      "Initializing q_2 = |1>\n"
     ]
    },
    {
     "data": {
      "text/plain": "<Figure size 538.33x284.278 with 1 Axes>",
      "image/png": "[encoded data removed]"
     },
     "execution_count": 10,
     "metadata": {},
     "output_type": "execute_result"
    }
   ],
   "source": [
    "# Creating Quantum Circuit (Qubits initialized to |0> by default)\n",
    "print(\"Initializing q_2 = |1>\")\n",
    "circ = QuantumCircuit(3)\n",
    "circ.x(qubit=2)\n",
    "circ.h(qubit=1)\n",
    "circ.cx(control_qubit=1,\n",
    "        target_qubit=2)\n",
    "circ.cu(theta=2*theta_2,phi=0.0,gamma=0.0,lam=0.0,control_qubit=1,target_qubit=0) # N.B. Remember to rotate by the double amount\n",
    "circ.u(theta=2*theta_1, phi=0.0,lam=0.0,qubit=0) # N.B. Remember to rotate by the double amount\n",
    "circ.h(qubit=1)\n",
    "circ.draw('mpl')"
   ],
   "metadata": {
    "collapsed": false,
    "ExecuteTime": {
     "start_time": "2023-04-10T13:40:54.780460Z",
     "end_time": "2023-04-10T13:40:54.870001Z"
    }
   }
  },
  {
   "cell_type": "code",
   "execution_count": 11,
   "outputs": [
    {
     "name": "stdout",
     "output_type": "stream",
     "text": [
      "[ 0.2981424   0.40138649 -0.2981424  -0.40138649  0.2236068   0.4472136\n",
      "  0.2236068   0.4472136 ]\n"
     ]
    }
   ],
   "source": [
    "# Run the quantum circuit on a statevector simulator backend\n",
    "backend = Aer.get_backend('statevector_simulator')\n",
    "job = backend.run(circ)\n",
    "result = job.result()\n",
    "statevector_result = np.real_if_close(np.array(result.data()['statevector']))\n",
    "print(statevector_result)"
   ],
   "metadata": {
    "collapsed": false,
    "ExecuteTime": {
     "start_time": "2023-04-10T13:40:54.873409Z",
     "end_time": "2023-04-10T13:40:54.930278Z"
    }
   }
  },
  {
   "cell_type": "markdown",
   "source": [
    "### Simulating quantum device"
   ],
   "metadata": {
    "collapsed": false
   }
  },
  {
   "cell_type": "code",
   "execution_count": 12,
   "outputs": [
    {
     "data": {
      "text/plain": "<Figure size 914.831x367.889 with 1 Axes>",
      "image/png": "[encoded data removed]"
     },
     "execution_count": 12,
     "metadata": {},
     "output_type": "execute_result"
    }
   ],
   "source": [
    "# Creating Quantum Circuit (Qubits initialized to |0> by default)\n",
    "circ = QuantumCircuit(3)\n",
    "#circ.x(qubit=2)\n",
    "circ.h(qubit=1)\n",
    "circ.cx(control_qubit=1,\n",
    "        target_qubit=2)\n",
    "circ.cu(theta=2*theta_2,phi=0.0,gamma=0.0,lam=0.0,control_qubit=1,target_qubit=0) # N.B. Remember to rotate by the double amount\n",
    "circ.u(theta=2*theta_1, phi=0.0,lam=0.0,qubit=0) # N.B. Remember to rotate by the double amount\n",
    "circ.h(qubit=1)\n",
    "circ.measure_all()\n",
    "circ.draw('mpl')"
   ],
   "metadata": {
    "collapsed": false,
    "ExecuteTime": {
     "start_time": "2023-04-10T13:40:54.886182Z",
     "end_time": "2023-04-10T13:40:55.041800Z"
    }
   }
  },
  {
   "cell_type": "code",
   "execution_count": 13,
   "outputs": [
    {
     "name": "stdout",
     "output_type": "stream",
     "text": [
      "[0.2440703  0.44194174 0.21875    0.44633928 0.29973947 0.38527588\n",
      " 0.31868872 0.39774756]\n"
     ]
    },
    {
     "data": {
      "text/plain": "<Figure size 1000x400 with 1 Axes>",
      "image/png": "[encoded data removed]"
     },
     "metadata": {},
     "output_type": "display_data"
    }
   ],
   "source": [
    "backend = Aer.get_backend('qasm_simulator')\n",
    "backend.shots = 10000\n",
    "result = execute(circ, backend).result()\n",
    "counts = result.get_counts()\n",
    "print(get_state_vector(counts=counts))\n",
    "plot_count_histogram(counts=counts)"
   ],
   "metadata": {
    "collapsed": false,
    "ExecuteTime": {
     "start_time": "2023-04-10T13:40:55.043806Z",
     "end_time": "2023-04-10T13:40:55.203444Z"
    }
   }
  },
  {
   "cell_type": "markdown",
   "source": [
    "### Encoding normalized real vector"
   ],
   "metadata": {
    "collapsed": false
   }
  },
  {
   "cell_type": "code",
   "execution_count": 14,
   "outputs": [
    {
     "name": "stdout",
     "output_type": "stream",
     "text": [
      "[0.4472136  0.89442719]\n"
     ]
    }
   ],
   "source": [
    "b_1, b_2 = 1,2\n",
    "b = np.array([b_1, b_2])/np.sqrt(b_1**2+b_2**2)\n",
    "print(b)"
   ],
   "metadata": {
    "collapsed": false,
    "ExecuteTime": {
     "start_time": "2023-04-10T13:40:55.198442Z",
     "end_time": "2023-04-10T13:40:55.272742Z"
    }
   }
  },
  {
   "cell_type": "code",
   "execution_count": 15,
   "outputs": [
    {
     "data": {
      "text/plain": "(2.214297435588181, 0)"
     },
     "execution_count": 15,
     "metadata": {},
     "output_type": "execute_result"
    }
   ],
   "source": [
    "theta = 2*np.arccos(b[0])\n",
    "phi = 0 # Choose phi depending on sign of second entry in b vector.\n",
    "lmbda = 0\n",
    "theta, phi"
   ],
   "metadata": {
    "collapsed": false,
    "ExecuteTime": {
     "start_time": "2023-04-10T13:40:55.214300Z",
     "end_time": "2023-04-10T13:40:55.284786Z"
    }
   }
  },
  {
   "cell_type": "code",
   "execution_count": 16,
   "outputs": [
    {
     "data": {
      "text/plain": "<Figure size 185.453x117.056 with 1 Axes>",
      "image/png": "[encoded data removed]"
     },
     "execution_count": 16,
     "metadata": {},
     "output_type": "execute_result"
    }
   ],
   "source": [
    "# Creating Quantum Circuit (Qubits initialized to |0> by default)\n",
    "circ = QuantumCircuit(1)\n",
    "circ.u(theta=theta, phi=phi,lam=lmbda,qubit=0)\n",
    "circ.draw('mpl')"
   ],
   "metadata": {
    "collapsed": false,
    "ExecuteTime": {
     "start_time": "2023-04-10T13:40:55.238428Z",
     "end_time": "2023-04-10T13:40:55.285786Z"
    }
   }
  },
  {
   "cell_type": "code",
   "execution_count": 17,
   "outputs": [
    {
     "name": "stdout",
     "output_type": "stream",
     "text": [
      "[0.4472136  0.89442719]\n"
     ]
    }
   ],
   "source": [
    "# Run the quantum circuit on a statevector simulator backend\n",
    "backend = Aer.get_backend('statevector_simulator')\n",
    "job = backend.run(circ)\n",
    "result = job.result()\n",
    "statevector_result = np.real_if_close(np.array(result.data()['statevector']))\n",
    "print(statevector_result)"
   ],
   "metadata": {
    "collapsed": false,
    "ExecuteTime": {
     "start_time": "2023-04-10T13:40:55.275769Z",
     "end_time": "2023-04-10T13:40:55.296130Z"
    }
   }
  },
  {
   "cell_type": "code",
   "execution_count": 18,
   "outputs": [
    {
     "data": {
      "text/plain": "Operator([[ 0.4472136 +0.j, -0.89442719+0.j],\n          [ 0.89442719+0.j,  0.4472136 +0.j]],\n         input_dims=(2,), output_dims=(2,))"
     },
     "execution_count": 18,
     "metadata": {},
     "output_type": "execute_result"
    }
   ],
   "source": [
    "# Run the quantum circuit on a statevector simulator backend\n",
    "backend = Aer.get_backend('unitary_simulator')\n",
    "job = backend.run(circ)\n",
    "result = job.result()\n",
    "result.get_unitary()"
   ],
   "metadata": {
    "collapsed": false,
    "ExecuteTime": {
     "start_time": "2023-04-10T13:40:55.292694Z",
     "end_time": "2023-04-10T13:40:55.336138Z"
    }
   }
  },
  {
   "cell_type": "markdown",
   "source": [
    "# REMEMBER THAT QISKIT IS BACKWARDS!"
   ],
   "metadata": {
    "collapsed": false
   }
  },
  {
   "cell_type": "code",
   "execution_count": 19,
   "outputs": [
    {
     "data": {
      "text/plain": "<Figure size 203.885x284.278 with 1 Axes>",
      "image/png": "[encoded data removed]"
     },
     "execution_count": 19,
     "metadata": {},
     "output_type": "execute_result"
    }
   ],
   "source": [
    "# Creating Quantum Circuit (Qubits initialized to |0> by default)\n",
    "circ = QuantumCircuit(3)\n",
    "circ.x(qubit=2)\n",
    "circ.draw('mpl')"
   ],
   "metadata": {
    "collapsed": false,
    "ExecuteTime": {
     "start_time": "2023-04-10T13:40:55.307137Z",
     "end_time": "2023-04-10T13:40:55.399628Z"
    }
   }
  },
  {
   "cell_type": "code",
   "execution_count": 20,
   "outputs": [
    {
     "name": "stdout",
     "output_type": "stream",
     "text": [
      "[0 0 0 0 1 0 0 0]\n"
     ]
    }
   ],
   "source": [
    "# Run the quantum circuit on a statevector simulator backend\n",
    "backend = Aer.get_backend('statevector_simulator')\n",
    "job = backend.run(circ)\n",
    "result = job.result()\n",
    "statevector_result = np.real_if_close(np.array(result.data()['statevector']))\n",
    "print(statevector_result.astype(int))"
   ],
   "metadata": {
    "collapsed": false,
    "ExecuteTime": {
     "start_time": "2023-04-10T13:40:55.372167Z",
     "end_time": "2023-04-10T13:40:55.410502Z"
    }
   }
  },
  {
   "cell_type": "code",
   "execution_count": 21,
   "outputs": [
    {
     "name": "stdout",
     "output_type": "stream",
     "text": [
      "this is the 'normal' way: \n",
      "\n",
      "[1 0 0 0 0 0 0 0]\n",
      "[0 0 0 0 1 0 0 0]\n"
     ]
    }
   ],
   "source": [
    "print(\"this is the 'normal' way: \\n\")\n",
    "print(qubit_vector('000').flatten())\n",
    "print(qubit_vector('100').flatten())"
   ],
   "metadata": {
    "collapsed": false,
    "ExecuteTime": {
     "start_time": "2023-04-10T13:40:55.386630Z",
     "end_time": "2023-04-10T13:40:55.410502Z"
    }
   }
  }
 ],
 "metadata": {
  "kernelspec": {
   "display_name": "Python 3 (ipykernel)",
   "language": "python",
   "name": "python3"
  },
  "language_info": {
   "codemirror_mode": {
    "name": "ipython",
    "version": 3
   },
   "file_extension": ".py",
   "mimetype": "text/x-python",
   "name": "python",
   "nbconvert_exporter": "python",
   "pygments_lexer": "ipython3",
   "version": "3.10.6"
  }
 },
 "nbformat": 4,
 "nbformat_minor": 1
}
